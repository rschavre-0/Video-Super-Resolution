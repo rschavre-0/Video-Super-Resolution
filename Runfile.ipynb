{
 "cells": [
  {
   "cell_type": "code",
   "execution_count": 1,
   "id": "d35717ad",
   "metadata": {},
   "outputs": [
    {
     "name": "stdout",
     "output_type": "stream",
     "text": [
      "Using CUDA\n",
      "Using CUDA\n"
     ]
    }
   ],
   "source": [
    "from videoproc import *"
   ]
  },
  {
   "cell_type": "code",
   "execution_count": 2,
   "id": "21224139",
   "metadata": {},
   "outputs": [],
   "source": [
    "video = \"videoplayback (1).mp4\"\n",
    "scaling = 2\n",
    "model1 = './saved models/adam_model_99.pth'\n",
    "model2 = './saved models/adam_model_999.pth'\n",
    "model3 = './saved models/rmsprop_model_99.pth'\n",
    "model4 = './saved models/fsrcnn_model_scale3.pth'"
   ]
  },
  {
   "cell_type": "code",
   "execution_count": 3,
   "id": "95c0197e",
   "metadata": {},
   "outputs": [],
   "source": [
    "length,width,height,fps=Enhance_Video_FSRCNN(model1,video,'./res/')\n",
    "video_build(length,width,height,\"output1.avi\",fps)"
   ]
  },
  {
   "cell_type": "code",
   "execution_count": 4,
   "id": "73cc9ef0",
   "metadata": {},
   "outputs": [],
   "source": [
    "length,width,height,fps=Enhance_Video_SRCNN(model2,video,'./res2/',scale)\n",
    "video_build(length,width,height,\"output2.avi\",fps)"
   ]
  },
  {
   "cell_type": "code",
   "execution_count": 5,
   "id": "4004e6de",
   "metadata": {},
   "outputs": [],
   "source": [
    "length,width,height,fps=Enhance_Video_FSRCNN(model3,video1,'./res3/')\n",
    "video_build(length,width,height,\"output3.avi\",fps)"
   ]
  },
  {
   "cell_type": "code",
   "execution_count": 6,
   "id": "62705455",
   "metadata": {},
   "outputs": [],
   "source": [
    "length,width,height,fps=Enhance_Video_FSRCNN(model4,video,'./res4')\n",
    "video_build(length,width,height,\"output4.avi\",fps)"
   ]
  }
 ],
 "metadata": {
  "kernelspec": {
   "display_name": "Python 3 (ipykernel)",
   "language": "python",
   "name": "python3"
  },
  "language_info": {
   "codemirror_mode": {
    "name": "ipython",
    "version": 3
   },
   "file_extension": ".py",
   "mimetype": "text/x-python",
   "name": "python",
   "nbconvert_exporter": "python",
   "pygments_lexer": "ipython3",
   "version": "3.9.7"
  }
 },
 "nbformat": 4,
 "nbformat_minor": 5
}
